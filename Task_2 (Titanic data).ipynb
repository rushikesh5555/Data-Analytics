{
 "cells": [
  {
   "cell_type": "markdown",
   "metadata": {},
   "source": [
    "# Task 2: Calculate summary statistics for Titanic data"
   ]
  },
  {
   "cell_type": "markdown",
   "metadata": {},
   "source": [
    "### Column Details "
   ]
  },
  {
   "cell_type": "markdown",
   "metadata": {},
   "source": [
    "\n",
    "Survival:\n",
    "\n",
    "    1- yes\n",
    "    2- no\n",
    "Pclass:\n",
    "    \n",
    "    1- First\n",
    "    2- Second\n",
    "    3- Third\n",
    "    \n",
    "Sex:\n",
    "\n",
    "    Male\n",
    "    Female\n",
    "   \n",
    "Age:\n",
    "\n",
    "    Age in year\n",
    "    \n",
    "Sibling:\n",
    "\n",
    "    Number of siblings / spouses aboard the Titanic\n",
    "    \n",
    "parch:\n",
    "\n",
    "    Number of parents / children aboard the Titanic\n",
    "    \n",
    "Ticket:\n",
    "    \n",
    "    Ticket number\n",
    "    \n",
    "Fare:\n",
    "\n",
    "    Passenger fare\n",
    "    \n",
    "Cabin: \n",
    "\n",
    "    Cabin number\n",
    "    \n",
    "embarked:\n",
    "\n",
    "    Port of Embarkation\n",
    "    C = Cherbourg\n",
    "    Q = Queenstown\n",
    "    S = Southampton\n",
    "    "
   ]
  },
  {
   "cell_type": "markdown",
   "metadata": {},
   "source": [
    "Summary statistics are used to get basic understanding of data.<br>\n",
    "#### some descriptive measures are\n",
    "1. Mean<br>\n",
    "2. Median\n",
    "3. Mode\n",
    "4. Standard deviation\n",
    "5. Variance\n",
    "6. Range\n",
    "7. Quartiles\n",
    "8. Percentiles"
   ]
  },
  {
   "cell_type": "code",
   "execution_count": 1,
   "metadata": {},
   "outputs": [],
   "source": [
    "import warnings\n",
    "warnings.filterwarnings(\"ignore\")\n",
    "import pandas as pd, numpy as np\n",
    "import matplotlib.pyplot as plt, seaborn as sns"
   ]
  },
  {
   "cell_type": "markdown",
   "metadata": {},
   "source": [
    "Importing preprocessed data for summary calculation"
   ]
  },
  {
   "cell_type": "code",
   "execution_count": 143,
   "metadata": {},
   "outputs": [
    {
     "data": {
      "text/html": [
       "<div>\n",
       "<style scoped>\n",
       "    .dataframe tbody tr th:only-of-type {\n",
       "        vertical-align: middle;\n",
       "    }\n",
       "\n",
       "    .dataframe tbody tr th {\n",
       "        vertical-align: top;\n",
       "    }\n",
       "\n",
       "    .dataframe thead th {\n",
       "        text-align: right;\n",
       "    }\n",
       "</style>\n",
       "<table border=\"1\" class=\"dataframe\">\n",
       "  <thead>\n",
       "    <tr style=\"text-align: right;\">\n",
       "      <th></th>\n",
       "      <th>Age</th>\n",
       "      <th>Embarked</th>\n",
       "      <th>Fare</th>\n",
       "      <th>Name</th>\n",
       "      <th>Parch</th>\n",
       "      <th>Pclass</th>\n",
       "      <th>Sex</th>\n",
       "      <th>SibSp</th>\n",
       "      <th>Survived</th>\n",
       "      <th>Ticket</th>\n",
       "    </tr>\n",
       "  </thead>\n",
       "  <tbody>\n",
       "    <tr>\n",
       "      <th>0</th>\n",
       "      <td>34.5000</td>\n",
       "      <td>Q</td>\n",
       "      <td>7.8292</td>\n",
       "      <td>Kelly, Mr. James</td>\n",
       "      <td>0</td>\n",
       "      <td>3</td>\n",
       "      <td>male</td>\n",
       "      <td>0</td>\n",
       "      <td>0</td>\n",
       "      <td>330911</td>\n",
       "    </tr>\n",
       "    <tr>\n",
       "      <th>1</th>\n",
       "      <td>47.0000</td>\n",
       "      <td>S</td>\n",
       "      <td>7.0000</td>\n",
       "      <td>Wilkes, Mrs. James (Ellen Needs)</td>\n",
       "      <td>0</td>\n",
       "      <td>3</td>\n",
       "      <td>female</td>\n",
       "      <td>1</td>\n",
       "      <td>1</td>\n",
       "      <td>363272</td>\n",
       "    </tr>\n",
       "    <tr>\n",
       "      <th>2</th>\n",
       "      <td>58.5625</td>\n",
       "      <td>Q</td>\n",
       "      <td>9.6875</td>\n",
       "      <td>Myles, Mr. Thomas Francis</td>\n",
       "      <td>0</td>\n",
       "      <td>2</td>\n",
       "      <td>male</td>\n",
       "      <td>0</td>\n",
       "      <td>0</td>\n",
       "      <td>240276</td>\n",
       "    </tr>\n",
       "    <tr>\n",
       "      <th>3</th>\n",
       "      <td>27.0000</td>\n",
       "      <td>S</td>\n",
       "      <td>8.6625</td>\n",
       "      <td>Wirz, Mr. Albert</td>\n",
       "      <td>0</td>\n",
       "      <td>3</td>\n",
       "      <td>male</td>\n",
       "      <td>0</td>\n",
       "      <td>0</td>\n",
       "      <td>315154</td>\n",
       "    </tr>\n",
       "    <tr>\n",
       "      <th>4</th>\n",
       "      <td>22.0000</td>\n",
       "      <td>S</td>\n",
       "      <td>12.2875</td>\n",
       "      <td>Hirvonen, Mrs. Alexander (Helga E Lindqvist)</td>\n",
       "      <td>1</td>\n",
       "      <td>3</td>\n",
       "      <td>female</td>\n",
       "      <td>1</td>\n",
       "      <td>1</td>\n",
       "      <td>3101298</td>\n",
       "    </tr>\n",
       "  </tbody>\n",
       "</table>\n",
       "</div>"
      ],
      "text/plain": [
       "       Age Embarked     Fare                                          Name  \\\n",
       "0  34.5000        Q   7.8292                              Kelly, Mr. James   \n",
       "1  47.0000        S   7.0000              Wilkes, Mrs. James (Ellen Needs)   \n",
       "2  58.5625        Q   9.6875                     Myles, Mr. Thomas Francis   \n",
       "3  27.0000        S   8.6625                              Wirz, Mr. Albert   \n",
       "4  22.0000        S  12.2875  Hirvonen, Mrs. Alexander (Helga E Lindqvist)   \n",
       "\n",
       "   Parch  Pclass     Sex  SibSp  Survived   Ticket  \n",
       "0      0       3    male      0         0   330911  \n",
       "1      0       3  female      1         1   363272  \n",
       "2      0       2    male      0         0   240276  \n",
       "3      0       3    male      0         0   315154  \n",
       "4      1       3  female      1         1  3101298  "
      ]
     },
     "execution_count": 143,
     "metadata": {},
     "output_type": "execute_result"
    }
   ],
   "source": [
    "df = pd.read_csv(\"Titanic_modified.csv\")\n",
    "df.head()"
   ]
  },
  {
   "cell_type": "code",
   "execution_count": 144,
   "metadata": {
    "scrolled": true
   },
   "outputs": [
    {
     "name": "stdout",
     "output_type": "stream",
     "text": [
      "<class 'pandas.core.frame.DataFrame'>\n",
      "RangeIndex: 1308 entries, 0 to 1307\n",
      "Data columns (total 10 columns):\n",
      "Age         1308 non-null float64\n",
      "Embarked    1308 non-null object\n",
      "Fare        1308 non-null float64\n",
      "Name        1308 non-null object\n",
      "Parch       1308 non-null int64\n",
      "Pclass      1308 non-null int64\n",
      "Sex         1308 non-null object\n",
      "SibSp       1308 non-null int64\n",
      "Survived    1308 non-null int64\n",
      "Ticket      1308 non-null object\n",
      "dtypes: float64(2), int64(4), object(4)\n",
      "memory usage: 81.8+ KB\n"
     ]
    }
   ],
   "source": [
    "df.info()"
   ]
  },
  {
   "cell_type": "code",
   "execution_count": 145,
   "metadata": {},
   "outputs": [],
   "source": [
    "# from sklearn.preprocessing import LabelEncoder\n",
    "# label_encoder = LabelEncoder()\n",
    "# df['Embarked'] = label_encoder.fit_transform(df['Embarked'])\n",
    "# Actual = label_encoder.inverse_transform([0,1,2])\n",
    "# print(Actual,\"Embarked are categorised as [0,1,2] respectively\")\n"
   ]
  },
  {
   "cell_type": "code",
   "execution_count": 146,
   "metadata": {},
   "outputs": [],
   "source": [
    "# from sklearn.preprocessing import LabelEncoder\n",
    "# label_encoder = LabelEncoder()\n",
    "# df['Sex'] = label_encoder.fit_transform(df['Sex'])\n",
    "# Actual = label_encoder.inverse_transform([0,1])\n",
    "# print(Actual,\" Genders are categorised as [0,1] respectively\")\n"
   ]
  },
  {
   "cell_type": "markdown",
   "metadata": {},
   "source": [
    "Summary statistics"
   ]
  },
  {
   "cell_type": "code",
   "execution_count": 147,
   "metadata": {},
   "outputs": [],
   "source": [
    "quantitative_columns = ['Age','Fare','Parch','SibSp']\n",
    "qualitative_columns = ['Embarked','Sex','Pclass','Survived']"
   ]
  },
  {
   "cell_type": "markdown",
   "metadata": {},
   "source": [
    "Mean:"
   ]
  },
  {
   "cell_type": "code",
   "execution_count": 148,
   "metadata": {},
   "outputs": [
    {
     "name": "stdout",
     "output_type": "stream",
     "text": [
      "Mean of quantitative variables is \n",
      " {'Age': 29.004048165137615, 'Fare': 24.287208256880618, 'Parch': 0.3853211009174312, 'SibSp': 0.49923547400611623}\n"
     ]
    }
   ],
   "source": [
    "Avg = {}\n",
    "for i in quantitative_columns:\n",
    "    average = df[\"{}\".format(i)].mean()\n",
    "    Avg[i] = average\n",
    "print(\"Mean of quantitative variables is \\n\",Avg)"
   ]
  },
  {
   "cell_type": "markdown",
   "metadata": {},
   "source": [
    "Median:"
   ]
  },
  {
   "cell_type": "code",
   "execution_count": 149,
   "metadata": {},
   "outputs": [
    {
     "name": "stdout",
     "output_type": "stream",
     "text": [
      "Median of quantitative variables is \n",
      " {'Age': 26.0, 'Fare': 14.4542, 'Parch': 0.0, 'SibSp': 0.0}\n"
     ]
    }
   ],
   "source": [
    "Median = {}\n",
    "for i in quantitative_columns:\n",
    "    Md = df[\"{}\".format(i)].median()\n",
    "    Median[i] = Md\n",
    "print(\"Median of quantitative variables is \\n\",Median)"
   ]
  },
  {
   "cell_type": "markdown",
   "metadata": {},
   "source": [
    "Mode:\n"
   ]
  },
  {
   "cell_type": "code",
   "execution_count": 150,
   "metadata": {},
   "outputs": [
    {
     "name": "stdout",
     "output_type": "stream",
     "text": [
      "Mode of qualitative variables is \n",
      " {'Embarked': 'S', 'Sex': 'male', 'Pclass': 3, 'Survived': 0}\n"
     ]
    }
   ],
   "source": [
    "Mode = {}\n",
    "for i in qualitative_columns:\n",
    "    MO = df[\"{}\".format(i)].mode()[0]\n",
    "    Mode[i] = MO\n",
    "print(\"Mode of qualitative variables is \\n\",Mode)"
   ]
  },
  {
   "cell_type": "markdown",
   "metadata": {},
   "source": [
    "Standard deviation:"
   ]
  },
  {
   "cell_type": "code",
   "execution_count": 151,
   "metadata": {},
   "outputs": [
    {
     "name": "stdout",
     "output_type": "stream",
     "text": [
      "stand deviation of qualitative variables is \n",
      " {'Age': 12.67067467544786, 'Fare': 20.795666284227373, 'Parch': 0.8658257885990792, 'SibSp': 1.0419653739229833}\n"
     ]
    }
   ],
   "source": [
    "SD = {}\n",
    "for i in quantitative_columns:\n",
    "    stand_dev = df[\"{}\".format(i)].std()\n",
    "    SD[i] = stand_dev\n",
    "print(\"stand deviation of qualitative variables is \\n\",SD)"
   ]
  },
  {
   "cell_type": "markdown",
   "metadata": {},
   "source": [
    "Variance:\n"
   ]
  },
  {
   "cell_type": "code",
   "execution_count": 152,
   "metadata": {},
   "outputs": [
    {
     "name": "stdout",
     "output_type": "stream",
     "text": [
      "Variance of qualitative variables is \n",
      " {'Age': 160.54599673103573, 'Fare': 432.45973620495107, 'Parch': 0.7496542962032173, 'SibSp': 1.0856918404544624}\n"
     ]
    }
   ],
   "source": [
    "VAR = {}\n",
    "for i in quantitative_columns:\n",
    "    Variance = df[\"{}\".format(i)].var()\n",
    "    VAR[i] = Variance\n",
    "print(\"Variance of qualitative variables is \\n\",VAR)"
   ]
  },
  {
   "cell_type": "markdown",
   "metadata": {},
   "source": [
    "Range:"
   ]
  },
  {
   "cell_type": "code",
   "execution_count": 153,
   "metadata": {},
   "outputs": [
    {
     "name": "stdout",
     "output_type": "stream",
     "text": [
      "Range of qualitative variables is \n",
      " {'Age': 58.3925, 'Fare': 66.34379999999999, 'Parch': 9, 'SibSp': 8}\n"
     ]
    }
   ],
   "source": [
    "R = {}\n",
    "for i in quantitative_columns:\n",
    "    MAX = df[\"{}\".format(i)].max()\n",
    "    MIN = df[\"{}\".format(i)].min()\n",
    "    RANGE = MAX - MIN\n",
    "    R[i] = RANGE\n",
    "print(\"Range of qualitative variables is \\n\",R)"
   ]
  },
  {
   "cell_type": "markdown",
   "metadata": {},
   "source": [
    "Quartiles:"
   ]
  },
  {
   "cell_type": "code",
   "execution_count": 154,
   "metadata": {},
   "outputs": [
    {
     "name": "stdout",
     "output_type": "stream",
     "text": [
      "First quartile of qualitative variables is \n",
      " {'Age': 22.0, 'Fare': 7.8958, 'Parch': 0.0, 'SibSp': 0.0}\n",
      "\n",
      "Third quartile of qualitative variables is \n",
      " {'Age': 36.625, 'Fare': 31.275, 'Parch': 0.0, 'SibSp': 1.0}\n"
     ]
    }
   ],
   "source": [
    "Q1 = {}\n",
    "Q3 = {}\n",
    "for i in quantitative_columns:\n",
    "    Q1_ = df[\"{}\".format(i)].quantile(0.25)\n",
    "    Q1[i] = Q1_\n",
    "    Q3_ = df[\"{}\".format(i)].quantile(0.75)\n",
    "    Q3[i] = Q3_\n",
    "    \n",
    "print(\"First quartile of qualitative variables is \\n\",Q1)\n",
    "print()\n",
    "print(\"Third quartile of qualitative variables is \\n\",Q3)"
   ]
  },
  {
   "cell_type": "markdown",
   "metadata": {},
   "source": [
    "Using describe function to get summary statistics"
   ]
  },
  {
   "cell_type": "code",
   "execution_count": 155,
   "metadata": {},
   "outputs": [
    {
     "data": {
      "text/html": [
       "<div>\n",
       "<style scoped>\n",
       "    .dataframe tbody tr th:only-of-type {\n",
       "        vertical-align: middle;\n",
       "    }\n",
       "\n",
       "    .dataframe tbody tr th {\n",
       "        vertical-align: top;\n",
       "    }\n",
       "\n",
       "    .dataframe thead th {\n",
       "        text-align: right;\n",
       "    }\n",
       "</style>\n",
       "<table border=\"1\" class=\"dataframe\">\n",
       "  <thead>\n",
       "    <tr style=\"text-align: right;\">\n",
       "      <th></th>\n",
       "      <th>Age</th>\n",
       "      <th>Fare</th>\n",
       "      <th>Parch</th>\n",
       "      <th>SibSp</th>\n",
       "    </tr>\n",
       "  </thead>\n",
       "  <tbody>\n",
       "    <tr>\n",
       "      <th>count</th>\n",
       "      <td>1308.000000</td>\n",
       "      <td>1308.000000</td>\n",
       "      <td>1308.000000</td>\n",
       "      <td>1308.000000</td>\n",
       "    </tr>\n",
       "    <tr>\n",
       "      <th>mean</th>\n",
       "      <td>29.004048</td>\n",
       "      <td>24.287208</td>\n",
       "      <td>0.385321</td>\n",
       "      <td>0.499235</td>\n",
       "    </tr>\n",
       "    <tr>\n",
       "      <th>std</th>\n",
       "      <td>12.670675</td>\n",
       "      <td>20.795666</td>\n",
       "      <td>0.865826</td>\n",
       "      <td>1.041965</td>\n",
       "    </tr>\n",
       "    <tr>\n",
       "      <th>min</th>\n",
       "      <td>0.170000</td>\n",
       "      <td>0.000000</td>\n",
       "      <td>0.000000</td>\n",
       "      <td>0.000000</td>\n",
       "    </tr>\n",
       "    <tr>\n",
       "      <th>25%</th>\n",
       "      <td>22.000000</td>\n",
       "      <td>7.895800</td>\n",
       "      <td>0.000000</td>\n",
       "      <td>0.000000</td>\n",
       "    </tr>\n",
       "    <tr>\n",
       "      <th>50%</th>\n",
       "      <td>26.000000</td>\n",
       "      <td>14.454200</td>\n",
       "      <td>0.000000</td>\n",
       "      <td>0.000000</td>\n",
       "    </tr>\n",
       "    <tr>\n",
       "      <th>75%</th>\n",
       "      <td>36.625000</td>\n",
       "      <td>31.275000</td>\n",
       "      <td>0.000000</td>\n",
       "      <td>1.000000</td>\n",
       "    </tr>\n",
       "    <tr>\n",
       "      <th>85%</th>\n",
       "      <td>42.000000</td>\n",
       "      <td>56.929200</td>\n",
       "      <td>1.000000</td>\n",
       "      <td>1.000000</td>\n",
       "    </tr>\n",
       "    <tr>\n",
       "      <th>90%</th>\n",
       "      <td>48.000000</td>\n",
       "      <td>66.343800</td>\n",
       "      <td>2.000000</td>\n",
       "      <td>1.000000</td>\n",
       "    </tr>\n",
       "    <tr>\n",
       "      <th>95%</th>\n",
       "      <td>54.650000</td>\n",
       "      <td>66.343800</td>\n",
       "      <td>2.000000</td>\n",
       "      <td>2.000000</td>\n",
       "    </tr>\n",
       "    <tr>\n",
       "      <th>max</th>\n",
       "      <td>58.562500</td>\n",
       "      <td>66.343800</td>\n",
       "      <td>9.000000</td>\n",
       "      <td>8.000000</td>\n",
       "    </tr>\n",
       "  </tbody>\n",
       "</table>\n",
       "</div>"
      ],
      "text/plain": [
       "               Age         Fare        Parch        SibSp\n",
       "count  1308.000000  1308.000000  1308.000000  1308.000000\n",
       "mean     29.004048    24.287208     0.385321     0.499235\n",
       "std      12.670675    20.795666     0.865826     1.041965\n",
       "min       0.170000     0.000000     0.000000     0.000000\n",
       "25%      22.000000     7.895800     0.000000     0.000000\n",
       "50%      26.000000    14.454200     0.000000     0.000000\n",
       "75%      36.625000    31.275000     0.000000     1.000000\n",
       "85%      42.000000    56.929200     1.000000     1.000000\n",
       "90%      48.000000    66.343800     2.000000     1.000000\n",
       "95%      54.650000    66.343800     2.000000     2.000000\n",
       "max      58.562500    66.343800     9.000000     8.000000"
      ]
     },
     "execution_count": 155,
     "metadata": {},
     "output_type": "execute_result"
    }
   ],
   "source": [
    "df[quantitative_columns].describe(percentiles=[0.25,0.50,0.75,0.85,0.90,0.95])"
   ]
  },
  {
   "cell_type": "markdown",
   "metadata": {},
   "source": []
  },
  {
   "cell_type": "code",
   "execution_count": null,
   "metadata": {},
   "outputs": [],
   "source": []
  },
  {
   "cell_type": "code",
   "execution_count": null,
   "metadata": {},
   "outputs": [],
   "source": []
  },
  {
   "cell_type": "code",
   "execution_count": null,
   "metadata": {},
   "outputs": [],
   "source": []
  },
  {
   "cell_type": "code",
   "execution_count": null,
   "metadata": {},
   "outputs": [],
   "source": []
  }
 ],
 "metadata": {
  "kernelspec": {
   "display_name": "Python 3",
   "language": "python",
   "name": "python3"
  },
  "language_info": {
   "codemirror_mode": {
    "name": "ipython",
    "version": 3
   },
   "file_extension": ".py",
   "mimetype": "text/x-python",
   "name": "python",
   "nbconvert_exporter": "python",
   "pygments_lexer": "ipython3",
   "version": "3.7.3"
  }
 },
 "nbformat": 4,
 "nbformat_minor": 2
}
